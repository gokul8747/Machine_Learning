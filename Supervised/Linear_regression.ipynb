{
 "cells": [
  {
   "cell_type": "markdown",
   "metadata": {},
   "source": [
    "## Linear Regression  \n"
   ]
  },
  {
   "cell_type": "markdown",
   "metadata": {},
   "source": [
    "### Table of Contents  \n",
    "- [1 - Package requirements](#1)\n",
    "- [2 - Outline](#2)\n",
    "- [3 - Implementation](#3)\n",
    "  - [3.1 Simple Linear regression (scratch)](#3-1)   \n",
    "  - [3.2 Simple Linear regression (with Scikit Learn)](#3-2)\n",
    "  - [3.3 Linear regression with Gradient descent](#3-3)"
   ]
  },
  {
   "cell_type": "markdown",
   "metadata": {},
   "source": [
    "<a name='1'></a>\n",
    "#### 1 - Package requirements    \n",
    "\n",
    " \n",
    "- First install all required packages  \n",
    "  -[numpy](www.numpy.org) is the main package for scientific computing and working with arrays.   \n",
    "  -[matplotlib](http://matplotlib.org) is a library to plot graphs in Python.  \n",
    "  -[pandas](https://pandas.pydata.org) is used for data cleaning and analysis     \n",
    "  -[scikit-learn](https://scikit-learn.org/) is a library for machine learning in Python,it contains a lot of efficient tools for machine learning.   \n"
   ]
  },
  {
   "cell_type": "markdown",
   "metadata": {},
   "source": [
    "<a name='2'></a>   \n",
    "#### 2 - Outline     \n",
    "- Linear regression is a `Supervised Learning Algorithm`, where we try to model a `Linear` relationship between independent and dependent variables.           \n",
    "<center><img align=\"center\" src=\"Images\\l_relation.png\" ></center>\n",
    "<caption><center><b>Linear relationship</b></center></caption><br>      \n",
    "\n",
    "\n",
    "since, the relationship is linear we are going to fits a hyperplane on data points in an m+1 dimensional space for a data with m number of features.         \n",
    "- The metric used for fitting the best hyperplane to the dataset is `Least Square Method`.           \n",
    " <center><img align=\"center\" src=\"Images/least_square.png\" style=\"width:500px;height:300px;\"></center>\n",
    "<caption><center><b>Least Square</b></center></caption><br>     \n",
    "\n",
    "- `MSE- (Mean Square Error)` is used as the cost function to evaluate the model, our goal is to minimize the cost function.        \n",
    " <center><img align=\"center\" src=\"Images/cost_fn.png\" style=\"width:500px;height:300px;\"></center>   \n",
    "\n",
    "- $R^{2}$ is a goodness-of-fit measure for linear regression models and it is a statistical measure of fit that indicates how much variation of a dependent variable is explained by the independent variable(s) in a regression model.    \n",
    " <center><img align=\"center\" src=\"Images/rsquare.png\" style=\"width:500px;height:300px;\"></center> \n",
    "\n"
   ]
  },
  {
   "cell_type": "markdown",
   "metadata": {},
   "source": [
    "<a name='3'></a>   \n",
    "#### 3 - Implementation        \n",
    "- In this implementation part you will learn how to build a linear regression model from scratch and with Scikit learn library          \n",
    "- Importing the libraries"
   ]
  },
  {
   "cell_type": "code",
   "execution_count": 21,
   "metadata": {},
   "outputs": [],
   "source": [
    "import numpy as np\n",
    "import pandas as pd\n",
    "import matplotlib.pyplot as plt\n",
    "from sklearn.linear_model import LinearRegression\n",
    "from sklearn.metrics import mean_absolute_error "
   ]
  },
  {
   "cell_type": "markdown",
   "metadata": {},
   "source": [
    "<a name='3-1'></a>\n",
    "#### 3.1 Implementation of linear regression from scratch          \n"
   ]
  },
  {
   "cell_type": "markdown",
   "metadata": {},
   "source": [
    "To make our work simpler we are going to use `Headbrain` dataset for convenience   \n",
    "this dataset have four features [\"Gender\",\"Age Range\",\"Head Size(cm^3)\",\"Brain Weight(grams)\"]   \n",
    "we are going to use "
   ]
  }
 ],
 "metadata": {
  "kernelspec": {
   "display_name": "Python 3.8.8 ('base')",
   "language": "python",
   "name": "python3"
  },
  "language_info": {
   "codemirror_mode": {
    "name": "ipython",
    "version": 3
   },
   "file_extension": ".py",
   "mimetype": "text/x-python",
   "name": "python",
   "nbconvert_exporter": "python",
   "pygments_lexer": "ipython3",
   "version": "3.8.8"
  },
  "orig_nbformat": 4,
  "vscode": {
   "interpreter": {
    "hash": "a90aeebcf29d64a654773811cc170cb25061cb2498f10ac689db374c7bf325de"
   }
  }
 },
 "nbformat": 4,
 "nbformat_minor": 2
}
